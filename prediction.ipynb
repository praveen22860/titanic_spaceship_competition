{
 "cells": [
  {
   "cell_type": "code",
   "execution_count": 1,
   "id": "9c4f73a9-f6fd-426a-aa15-649526ddc9bc",
   "metadata": {},
   "outputs": [
    {
     "name": "stderr",
     "output_type": "stream",
     "text": [
      "/var/folders/cx/1btczgg128v54tpz8hgl4rzw0000gn/T/ipykernel_6244/3460711951.py:22: FutureWarning: Downcasting object dtype arrays on .fillna, .ffill, .bfill is deprecated and will change in a future version. Call result.infer_objects(copy=False) instead. To opt-in to the future behavior, set `pd.set_option('future.no_silent_downcasting', True)`\n",
      "  df['CryoSleep'] = df['CryoSleep'].fillna(False)\n",
      "/var/folders/cx/1btczgg128v54tpz8hgl4rzw0000gn/T/ipykernel_6244/3460711951.py:25: FutureWarning: Downcasting object dtype arrays on .fillna, .ffill, .bfill is deprecated and will change in a future version. Call result.infer_objects(copy=False) instead. To opt-in to the future behavior, set `pd.set_option('future.no_silent_downcasting', True)`\n",
      "  df['VIP'] = df['VIP'].fillna(False)\n",
      "/var/folders/cx/1btczgg128v54tpz8hgl4rzw0000gn/T/ipykernel_6244/3460711951.py:22: FutureWarning: Downcasting object dtype arrays on .fillna, .ffill, .bfill is deprecated and will change in a future version. Call result.infer_objects(copy=False) instead. To opt-in to the future behavior, set `pd.set_option('future.no_silent_downcasting', True)`\n",
      "  df['CryoSleep'] = df['CryoSleep'].fillna(False)\n",
      "/var/folders/cx/1btczgg128v54tpz8hgl4rzw0000gn/T/ipykernel_6244/3460711951.py:25: FutureWarning: Downcasting object dtype arrays on .fillna, .ffill, .bfill is deprecated and will change in a future version. Call result.infer_objects(copy=False) instead. To opt-in to the future behavior, set `pd.set_option('future.no_silent_downcasting', True)`\n",
      "  df['VIP'] = df['VIP'].fillna(False)\n"
     ]
    },
    {
     "name": "stdout",
     "output_type": "stream",
     "text": [
      "🚀 Submission file 'spaceship_submission.csv' is ready!\n"
     ]
    }
   ],
   "source": [
    "import pandas as pd\n",
    "import numpy as np\n",
    "from sklearn.ensemble import RandomForestClassifier\n",
    "from sklearn.preprocessing import LabelEncoder\n",
    "from sklearn.model_selection import train_test_split\n",
    "\n",
    "train = pd.read_csv(\"train.csv\")\n",
    "test = pd.read_csv(\"test.csv\")\n",
    "\n",
    "def preprocess(df):\n",
    "    # Fill missing values\n",
    "    df['Age'] = df['Age'].fillna(df['Age'].median())\n",
    "    df['RoomService'] = df['RoomService'].fillna(0)\n",
    "    df['FoodCourt'] = df['FoodCourt'].fillna(0)\n",
    "    df['ShoppingMall'] = df['ShoppingMall'].fillna(0)\n",
    "    df['Spa'] = df['Spa'].fillna(0)\n",
    "    df['VRDeck'] = df['VRDeck'].fillna(0)\n",
    "    df['HomePlanet'] = df['HomePlanet'].fillna(\"Earth\")\n",
    "    df['CryoSleep'] = df['CryoSleep'].fillna(False)\n",
    "    df['Cabin'] = df['Cabin'].fillna(\"Unknown/0/Z\")\n",
    "    df['Destination'] = df['Destination'].fillna(\"TRAPPIST-1e\")\n",
    "    df['VIP'] = df['VIP'].fillna(False)\n",
    "\n",
    "    df['CryoSleep'] = df['CryoSleep'].astype(bool)\n",
    "    df['VIP'] = df['VIP'].astype(bool)\n",
    "\n",
    "    df[['Deck', 'CabinNum', 'Side']] = df['Cabin'].str.split('/', expand=True)\n",
    "\n",
    "    label_cols = ['HomePlanet', 'Destination', 'Deck', 'Side']\n",
    "    for col in label_cols:\n",
    "        le = LabelEncoder()\n",
    "        df[col] = le.fit_transform(df[col])\n",
    "\n",
    "    df.drop(columns=['Name', 'Cabin', 'CabinNum'], inplace=True)\n",
    "\n",
    "    return df\n",
    "\n",
    "train_processed = preprocess(train.copy())\n",
    "test_processed = preprocess(test.copy())\n",
    "\n",
    "features = [\n",
    "    'HomePlanet', 'CryoSleep', 'Destination', 'Age',\n",
    "    'VIP', 'RoomService', 'FoodCourt', 'ShoppingMall',\n",
    "    'Spa', 'VRDeck', 'Deck', 'Side'\n",
    "]\n",
    "\n",
    "X = train_processed[features]\n",
    "y = train_processed['Transported'].astype(bool)\n",
    "X_test = test_processed[features]\n",
    "\n",
    "model = RandomForestClassifier(n_estimators=200, random_state=42)\n",
    "model.fit(X, y)\n",
    "\n",
    "preds = model.predict(X_test)\n",
    "\n",
    "submission = pd.DataFrame({\n",
    "    \"PassengerId\": test[\"PassengerId\"],\n",
    "    \"Transported\": preds\n",
    "})\n",
    "\n",
    "submission.to_csv(\"spaceship_submission.csv\", index=False)\n",
    "print(\"🚀 Submission file 'spaceship_submission.csv' is ready!\")\n"
   ]
  },
  {
   "cell_type": "code",
   "execution_count": null,
   "id": "de50f286-cb48-4c67-953c-9d8dd09d4550",
   "metadata": {},
   "outputs": [],
   "source": []
  }
 ],
 "metadata": {
  "kernelspec": {
   "display_name": "Python 3 (ipykernel)",
   "language": "python",
   "name": "python3"
  },
  "language_info": {
   "codemirror_mode": {
    "name": "ipython",
    "version": 3
   },
   "file_extension": ".py",
   "mimetype": "text/x-python",
   "name": "python",
   "nbconvert_exporter": "python",
   "pygments_lexer": "ipython3",
   "version": "3.12.3"
  }
 },
 "nbformat": 4,
 "nbformat_minor": 5
}
